{
 "cells": [
  {
   "cell_type": "code",
   "execution_count": 25,
   "id": "3fd61bdf-ad02-4a86-9fab-b170dbf3fa5f",
   "metadata": {},
   "outputs": [],
   "source": [
    "import xgboost as xgb\n",
    "from xgboost import XGBClassifier\n",
    "from sklearn.model_selection import train_test_split\n",
    "from sklearn.metrics import accuracy_score\n",
    "from sklearn.metrics import confusion_matrix\n",
    "from sklearn.model_selection import cross_val_score, StratifiedKFold\n",
    "import seaborn as sns\n",
    "import matplotlib.pyplot as plt\n",
    "import pandas as pd\n",
    "import numpy as np\n",
    "from sklearn.metrics import roc_curve, auc\n",
    "import matplotlib.pyplot as plt"
   ]
  },
  {
   "cell_type": "code",
   "execution_count": 11,
   "id": "6ca67174-d071-49c5-89c5-b0d5b2f88738",
   "metadata": {},
   "outputs": [],
   "source": [
    "# Load a sample dataset\n",
    "\n",
    "xgb_nse = pd.read_csv('/home/jothammasila/Projects/Datasets/nse.csv')\n",
    "\n",
    "#Drop columns\n",
    "columns_drop = ['Change','Change%','Code','Name','Volume','Adjusted Price']\n",
    "xgb_nse = xgb_nse.drop(columns_drop, axis=1)\n"
   ]
  },
  {
   "cell_type": "code",
   "execution_count": 12,
   "id": "ea5c77cd-b033-4f0c-bb7b-dd66ea88455f",
   "metadata": {},
   "outputs": [
    {
     "data": {
      "text/html": [
       "<div>\n",
       "<style scoped>\n",
       "    .dataframe tbody tr th:only-of-type {\n",
       "        vertical-align: middle;\n",
       "    }\n",
       "\n",
       "    .dataframe tbody tr th {\n",
       "        vertical-align: top;\n",
       "    }\n",
       "\n",
       "    .dataframe thead th {\n",
       "        text-align: right;\n",
       "    }\n",
       "</style>\n",
       "<table border=\"1\" class=\"dataframe\">\n",
       "  <thead>\n",
       "    <tr style=\"text-align: right;\">\n",
       "      <th></th>\n",
       "      <th>Date</th>\n",
       "      <th>12m Low</th>\n",
       "      <th>12m High</th>\n",
       "      <th>Day Low</th>\n",
       "      <th>Day High</th>\n",
       "      <th>Day Price</th>\n",
       "      <th>Previous</th>\n",
       "    </tr>\n",
       "  </thead>\n",
       "  <tbody>\n",
       "    <tr>\n",
       "      <th>0</th>\n",
       "      <td>3-Jan-22</td>\n",
       "      <td>10</td>\n",
       "      <td>15</td>\n",
       "      <td>13.5</td>\n",
       "      <td>13.8</td>\n",
       "      <td>13.5</td>\n",
       "      <td>13.5</td>\n",
       "    </tr>\n",
       "    <tr>\n",
       "      <th>1</th>\n",
       "      <td>3-Jan-22</td>\n",
       "      <td>355</td>\n",
       "      <td>427</td>\n",
       "      <td>385</td>\n",
       "      <td>385</td>\n",
       "      <td>385</td>\n",
       "      <td>385</td>\n",
       "    </tr>\n",
       "    <tr>\n",
       "      <th>2</th>\n",
       "      <td>3-Jan-22</td>\n",
       "      <td>80</td>\n",
       "      <td>101</td>\n",
       "      <td>99.5</td>\n",
       "      <td>99.5</td>\n",
       "      <td>99.5</td>\n",
       "      <td>95.5</td>\n",
       "    </tr>\n",
       "    <tr>\n",
       "      <th>3</th>\n",
       "      <td>3-Jan-22</td>\n",
       "      <td>260</td>\n",
       "      <td>360</td>\n",
       "      <td>320</td>\n",
       "      <td>320</td>\n",
       "      <td>320</td>\n",
       "      <td>320</td>\n",
       "    </tr>\n",
       "    <tr>\n",
       "      <th>4</th>\n",
       "      <td>3-Jan-22</td>\n",
       "      <td>16.75</td>\n",
       "      <td>22.6</td>\n",
       "      <td>18.7</td>\n",
       "      <td>18.7</td>\n",
       "      <td>18.7</td>\n",
       "      <td>18.7</td>\n",
       "    </tr>\n",
       "  </tbody>\n",
       "</table>\n",
       "</div>"
      ],
      "text/plain": [
       "       Date 12m Low 12m High Day Low Day High Day Price Previous\n",
       "0  3-Jan-22      10       15    13.5     13.8      13.5     13.5\n",
       "1  3-Jan-22     355      427     385      385       385      385\n",
       "2  3-Jan-22      80      101    99.5     99.5      99.5     95.5\n",
       "3  3-Jan-22     260      360     320      320       320      320\n",
       "4  3-Jan-22   16.75     22.6    18.7     18.7      18.7     18.7"
      ]
     },
     "execution_count": 12,
     "metadata": {},
     "output_type": "execute_result"
    }
   ],
   "source": [
    "xgb_nse = xgb_nse.dropna()\n",
    "xgb_nse.head()"
   ]
  },
  {
   "cell_type": "code",
   "execution_count": 13,
   "id": "1d621957-51a7-4ae8-a6be-9601c48ccb4a",
   "metadata": {},
   "outputs": [],
   "source": [
    "columns_to_float = ['12m Low',\t'12m High',\t'Day Low',\t'Day High',\t'Day Price', 'Previous']\n",
    "# convert to type float\n",
    "# Convert each value in the specified columns to float\n",
    "xgb_nse[columns_to_float] = xgb_nse[columns_to_float].apply(lambda x: pd.to_numeric(x, errors='coerce'))\n"
   ]
  },
  {
   "cell_type": "code",
   "execution_count": 14,
   "id": "982dff9c-bf72-408e-85f1-34d48579cbd7",
   "metadata": {},
   "outputs": [],
   "source": [
    "# Create a target variable based on 'Day Low' and 'Day High'\n",
    "# For example, you can create a binary target indicating whether the price increased or not\n",
    "xgb_nse['PriceChange'] = (xgb_nse['Day High'] > xgb_nse['Day Low']).astype(int)"
   ]
  },
  {
   "cell_type": "code",
   "execution_count": 15,
   "id": "947f7732-37fc-468e-bae1-90a555f8cec6",
   "metadata": {},
   "outputs": [],
   "source": [
    "# Features (X) and target variable (y)\n",
    "X = xgb_nse[['12m Low', '12m High', 'Day Price', 'Previous']]\n",
    "y = xgb_nse['PriceChange']"
   ]
  },
  {
   "cell_type": "code",
   "execution_count": 16,
   "id": "f0066dec-6529-4724-9d99-76aeabc9e536",
   "metadata": {},
   "outputs": [
    {
     "data": {
      "text/html": [
       "<div>\n",
       "<style scoped>\n",
       "    .dataframe tbody tr th:only-of-type {\n",
       "        vertical-align: middle;\n",
       "    }\n",
       "\n",
       "    .dataframe tbody tr th {\n",
       "        vertical-align: top;\n",
       "    }\n",
       "\n",
       "    .dataframe thead th {\n",
       "        text-align: right;\n",
       "    }\n",
       "</style>\n",
       "<table border=\"1\" class=\"dataframe\">\n",
       "  <thead>\n",
       "    <tr style=\"text-align: right;\">\n",
       "      <th></th>\n",
       "      <th>12m Low</th>\n",
       "      <th>12m High</th>\n",
       "      <th>Day Low</th>\n",
       "      <th>Day High</th>\n",
       "      <th>Day Price</th>\n",
       "      <th>Previous</th>\n",
       "      <th>PriceChange</th>\n",
       "    </tr>\n",
       "  </thead>\n",
       "  <tbody>\n",
       "    <tr>\n",
       "      <th>count</th>\n",
       "      <td>6528.000000</td>\n",
       "      <td>6528.000000</td>\n",
       "      <td>6528.000000</td>\n",
       "      <td>6528.000000</td>\n",
       "      <td>6528.000000</td>\n",
       "      <td>6528.000000</td>\n",
       "      <td>6732.000000</td>\n",
       "    </tr>\n",
       "    <tr>\n",
       "      <th>mean</th>\n",
       "      <td>38.147616</td>\n",
       "      <td>52.438797</td>\n",
       "      <td>44.517934</td>\n",
       "      <td>44.970047</td>\n",
       "      <td>44.716726</td>\n",
       "      <td>44.727577</td>\n",
       "      <td>0.537730</td>\n",
       "    </tr>\n",
       "    <tr>\n",
       "      <th>std</th>\n",
       "      <td>80.388324</td>\n",
       "      <td>104.301068</td>\n",
       "      <td>91.719464</td>\n",
       "      <td>92.280648</td>\n",
       "      <td>91.968432</td>\n",
       "      <td>91.977711</td>\n",
       "      <td>0.498611</td>\n",
       "    </tr>\n",
       "    <tr>\n",
       "      <th>min</th>\n",
       "      <td>0.170000</td>\n",
       "      <td>0.270000</td>\n",
       "      <td>0.170000</td>\n",
       "      <td>0.180000</td>\n",
       "      <td>0.170000</td>\n",
       "      <td>0.170000</td>\n",
       "      <td>0.000000</td>\n",
       "    </tr>\n",
       "    <tr>\n",
       "      <th>25%</th>\n",
       "      <td>3.260000</td>\n",
       "      <td>4.530000</td>\n",
       "      <td>3.830000</td>\n",
       "      <td>3.830000</td>\n",
       "      <td>3.830000</td>\n",
       "      <td>3.830000</td>\n",
       "      <td>0.000000</td>\n",
       "    </tr>\n",
       "    <tr>\n",
       "      <th>50%</th>\n",
       "      <td>9.000000</td>\n",
       "      <td>13.225000</td>\n",
       "      <td>10.400000</td>\n",
       "      <td>10.400000</td>\n",
       "      <td>10.400000</td>\n",
       "      <td>10.400000</td>\n",
       "      <td>1.000000</td>\n",
       "    </tr>\n",
       "    <tr>\n",
       "      <th>75%</th>\n",
       "      <td>24.600000</td>\n",
       "      <td>42.200000</td>\n",
       "      <td>35.000000</td>\n",
       "      <td>36.000000</td>\n",
       "      <td>35.462500</td>\n",
       "      <td>35.462500</td>\n",
       "      <td>1.000000</td>\n",
       "    </tr>\n",
       "    <tr>\n",
       "      <th>max</th>\n",
       "      <td>420.000000</td>\n",
       "      <td>512.000000</td>\n",
       "      <td>500.000000</td>\n",
       "      <td>512.000000</td>\n",
       "      <td>509.000000</td>\n",
       "      <td>509.000000</td>\n",
       "      <td>1.000000</td>\n",
       "    </tr>\n",
       "  </tbody>\n",
       "</table>\n",
       "</div>"
      ],
      "text/plain": [
       "           12m Low     12m High      Day Low     Day High    Day Price  \\\n",
       "count  6528.000000  6528.000000  6528.000000  6528.000000  6528.000000   \n",
       "mean     38.147616    52.438797    44.517934    44.970047    44.716726   \n",
       "std      80.388324   104.301068    91.719464    92.280648    91.968432   \n",
       "min       0.170000     0.270000     0.170000     0.180000     0.170000   \n",
       "25%       3.260000     4.530000     3.830000     3.830000     3.830000   \n",
       "50%       9.000000    13.225000    10.400000    10.400000    10.400000   \n",
       "75%      24.600000    42.200000    35.000000    36.000000    35.462500   \n",
       "max     420.000000   512.000000   500.000000   512.000000   509.000000   \n",
       "\n",
       "          Previous  PriceChange  \n",
       "count  6528.000000  6732.000000  \n",
       "mean     44.727577     0.537730  \n",
       "std      91.977711     0.498611  \n",
       "min       0.170000     0.000000  \n",
       "25%       3.830000     0.000000  \n",
       "50%      10.400000     1.000000  \n",
       "75%      35.462500     1.000000  \n",
       "max     509.000000     1.000000  "
      ]
     },
     "execution_count": 16,
     "metadata": {},
     "output_type": "execute_result"
    }
   ],
   "source": [
    "xgb_nse.dropna()\n",
    "xgb_nse.describe()"
   ]
  },
  {
   "cell_type": "code",
   "execution_count": 17,
   "id": "80ebac0a-16d9-4ac2-8a31-7ab6aa035c91",
   "metadata": {},
   "outputs": [],
   "source": [
    "# Split the data into training and testing sets\n",
    "X_train, X_test, y_train, y_test = train_test_split(X, y, test_size=0.2, random_state=42)"
   ]
  },
  {
   "cell_type": "code",
   "execution_count": 18,
   "id": "b985e6f5-297e-45a7-8c8c-2d90c24b64f2",
   "metadata": {},
   "outputs": [],
   "source": [
    "# Define the XGBoost model\n",
    "model = xgb.XGBClassifier(objective='binary:logistic', eval_metric='logloss', random_state=42)"
   ]
  },
  {
   "cell_type": "code",
   "execution_count": 19,
   "id": "826144c7-7185-4c2a-809a-dd323e724152",
   "metadata": {},
   "outputs": [
    {
     "name": "stdout",
     "output_type": "stream",
     "text": [
      "1347\n",
      "1347\n"
     ]
    }
   ],
   "source": [
    "# Train the model\n",
    "model.fit(X_train, y_train)\n",
    "print(len(y_test))\n",
    "print(len(X_test))"
   ]
  },
  {
   "cell_type": "code",
   "execution_count": 20,
   "id": "714c476e-81ee-466c-bb17-6b93da42cf20",
   "metadata": {},
   "outputs": [],
   "source": [
    "# Make predictions on the test set\n",
    "y_pred = model.predict(X_test)"
   ]
  },
  {
   "cell_type": "code",
   "execution_count": 21,
   "id": "683ed10f-ccf0-47fd-8741-1cc07381d161",
   "metadata": {},
   "outputs": [
    {
     "name": "stdout",
     "output_type": "stream",
     "text": [
      "Accuracy: 0.8789903489235338\n"
     ]
    }
   ],
   "source": [
    "# Evaluate the performance\n",
    "accuracy = accuracy_score(y_test, y_pred)\n",
    "print(f'Accuracy: {accuracy}')"
   ]
  },
  {
   "cell_type": "code",
   "execution_count": 22,
   "id": "e97b12cd-b194-4863-9bc0-e04cecd03c43",
   "metadata": {},
   "outputs": [
    {
     "data": {
      "image/png": "[encoded data removed]",
      "text/plain": [
       "<Figure size 500x500 with 1 Axes>"
      ]
     },
     "metadata": {},
     "output_type": "display_data"
    }
   ],
   "source": [
    "# Compute the confusion matrix\n",
    "conf_matrix = confusion_matrix(y_test, y_pred)\n",
    "\n",
    "# Display the confusion matrix using seaborn\n",
    "plt.figure(figsize=(5, 5))\n",
    "sns.heatmap(conf_matrix, annot=True, fmt='d', cmap='Blues', cbar=False,\n",
    "            xticklabels=['Predicted Negative', 'Predicted Positive'],\n",
    "            yticklabels=['Actual Negative', 'Actual Positive'])\n",
    "plt.xlabel('Predicted Label')\n",
    "plt.ylabel('True Label')\n",
    "plt.title('Confusion Matrix')\n",
    "plt.show()"
   ]
  },
  {
   "cell_type": "code",
   "execution_count": 23,
   "id": "70a57354-dabd-4de3-b647-de8850ab0e14",
   "metadata": {},
   "outputs": [
    {
     "data": {
      "image/png": "[encoded data removed]",
      "text/plain": [
       "<Figure size 800x600 with 1 Axes>"
      ]
     },
     "metadata": {},
     "output_type": "display_data"
    }
   ],
   "source": [
    "# Compute ROC curve\n",
    "fpr, tpr, thresholds = roc_curve(y_test, model.predict_proba(X_test)[:, 1])\n",
    "roc_auc = auc(fpr, tpr)\n",
    "\n",
    "# Plot ROC curve\n",
    "plt.figure(figsize=(8, 6))\n",
    "plt.plot(fpr, tpr, color='darkorange', lw=2, label='ROC curve (AUC = {:.2f})'.format(roc_auc))\n",
    "plt.plot([0, 1], [0, 1], color='navy', lw=2, linestyle='--')\n",
    "plt.xlabel('False Positive Rate (1 - Specificity)')\n",
    "plt.ylabel('True Positive Rate (Sensitivity)')\n",
    "plt.title('ROC Curve')\n",
    "plt.legend(loc='lower right')\n",
    "plt.show()"
   ]
  },
  {
   "cell_type": "markdown",
   "id": "f1af965b-ec1e-4f5f-ae0d-7b59cfba459d",
   "metadata": {},
   "source": [
    "## Cross-Validation\n",
    "\n",
    "##### Cross-validation is a crucial technique for assessing the performance of a machine learning model and ensuring that its performance metrics are robust and not dependent on a particular train-test split. In XGBoost model, you can use cross-validation to estimate the model's performance across multiple folds of the data."
   ]
  },
  {
   "cell_type": "code",
   "execution_count": 26,
   "id": "ee610e3f-3494-4585-9a47-74cdf40a6ec7",
   "metadata": {},
   "outputs": [
    {
     "data": {
      "text/html": [
       "<div>\n",
       "<style scoped>\n",
       "    .dataframe tbody tr th:only-of-type {\n",
       "        vertical-align: middle;\n",
       "    }\n",
       "\n",
       "    .dataframe tbody tr th {\n",
       "        vertical-align: top;\n",
       "    }\n",
       "\n",
       "    .dataframe thead th {\n",
       "        text-align: right;\n",
       "    }\n",
       "</style>\n",
       "<table border=\"1\" class=\"dataframe\">\n",
       "  <thead>\n",
       "    <tr style=\"text-align: right;\">\n",
       "      <th></th>\n",
       "      <th>CV_Scores</th>\n",
       "    </tr>\n",
       "  </thead>\n",
       "  <tbody>\n",
       "    <tr>\n",
       "      <th>0</th>\n",
       "      <td>0.873051</td>\n",
       "    </tr>\n",
       "    <tr>\n",
       "      <th>1</th>\n",
       "      <td>0.876763</td>\n",
       "    </tr>\n",
       "    <tr>\n",
       "      <th>2</th>\n",
       "      <td>0.876672</td>\n",
       "    </tr>\n",
       "    <tr>\n",
       "      <th>3</th>\n",
       "      <td>0.869985</td>\n",
       "    </tr>\n",
       "    <tr>\n",
       "      <th>4</th>\n",
       "      <td>0.875929</td>\n",
       "    </tr>\n",
       "  </tbody>\n",
       "</table>\n",
       "</div>"
      ],
      "text/plain": [
       "   CV_Scores\n",
       "0   0.873051\n",
       "1   0.876763\n",
       "2   0.876672\n",
       "3   0.869985\n",
       "4   0.875929"
      ]
     },
     "execution_count": 26,
     "metadata": {},
     "output_type": "execute_result"
    }
   ],
   "source": [
    "\n",
    "# Define the cross-validation strategy (StratifiedKFold for binary classification)\n",
    "cv = StratifiedKFold(n_splits=5, shuffle=True, random_state=42)\n",
    "\n",
    "# Perform cross-validation\n",
    "cv_scores = cross_val_score(model, X, y, cv=cv, scoring='accuracy')\n",
    "\n",
    "# Display cross-validation scores\n",
    "# print(\"Cross-Validation Scores:\", cv_scores)\n",
    "# print(\"Mean Accuracy:\", np.mean(cv_scores))\n",
    "pd.DataFrame(cv_scores,columns=['CV_Scores'])"
   ]
  },
  {
   "cell_type": "code",
   "execution_count": null,
   "id": "f80a7811-7136-4f2f-b7a0-945e12889c45",
   "metadata": {},
   "outputs": [],
   "source": []
  }
 ],
 "metadata": {
  "kernelspec": {
   "display_name": "Python 3 (ipykernel)",
   "language": "python",
   "name": "python3"
  },
  "language_info": {
   "codemirror_mode": {
    "name": "ipython",
    "version": 3
   },
   "file_extension": ".py",
   "mimetype": "text/x-python",
   "name": "python",
   "nbconvert_exporter": "python",
   "pygments_lexer": "ipython3",
   "version": "3.10.12"
  }
 },
 "nbformat": 4,
 "nbformat_minor": 5
}
